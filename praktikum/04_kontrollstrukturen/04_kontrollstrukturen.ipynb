{
 "cells": [
  {
   "cell_type": "code",
   "execution_count": null,
   "metadata": {
    "deletable": false,
    "editable": false
   },
   "outputs": [],
   "source": [
    "# Initialize Otter\n",
    "import otter\n",
    "grader = otter.Notebook(\"04_kontrollstrukturen.ipynb\")"
   ]
  },
  {
   "cell_type": "markdown",
   "metadata": {},
   "source": [
    "# Computational Thinking WS2023/24\n",
    "\n",
    "## Kontrollstrukturen\n",
    "\n",
    "**Autoren:** \n",
    "+ Prof. Benedikt Dietrich"
   ]
  },
  {
   "cell_type": "markdown",
   "metadata": {},
   "source": [
    "### Aufgabe 1 - Schaltjahr\n",
    "\n",
    "In dem von uns verwendeten *gregorianischen Kalender* handelt es sich um ein Schaltjahr, wenn\n",
    "\n",
    "1. die Jahreszahl durch vier ganzzahlig teilbar ist \n",
    "1. und die Jahreszahl *nicht* durch 100 teilbar ist.\n",
    "1. Ist die Jahreszahl durch 400 ganzzahlig teilbar handelt es sich entgegen der Regel 2 trotzdem um ein Schaltjahr.\n",
    "\n",
    "Schreiben Sie ein Programm, das prüft, ob es sich bei einer beliebigen Jahreszahl um ein Schaltjahr handelt oder nicht. Das Ergebnis soll in Form einer booleschen Variable namens `is_leap_year` gespeichert werden. Außerdem soll eine der beiden Nachrichten ausgegeben:\n",
    "\n",
    "```text\n",
    "    Das Jahr yyyy ist ein Schaltjahr.\n",
    "```\n",
    "oder\n",
    "\n",
    "```text\n",
    "    Das Jahr yyyy ist kein Schaltjahr.\n",
    "```\n",
    "\n",
    "wobei yyyy durch die Jahreszahl zu ersetzen ist."
   ]
  },
  {
   "cell_type": "code",
   "execution_count": null,
   "metadata": {
    "tags": []
   },
   "outputs": [],
   "source": [
    "year = 2000\n",
    "is_leap_year = False\n",
    "...\n",
    "if is_leap_year:\n",
    "    print(f\"Das Jahr {year} ist ein Schaltjahr\")\n",
    "else:\n",
    "    print(f\"Das Jahr {year} ist kein Schaltjahr\")"
   ]
  },
  {
   "cell_type": "markdown",
   "metadata": {},
   "source": [
    "### Aufgabe 2\n",
    "\n",
    "TBD\n"
   ]
  },
  {
   "cell_type": "markdown",
   "metadata": {
    "deletable": false,
    "editable": false
   },
   "source": [
    "## Abgabe **Please save before exporting!**"
   ]
  },
  {
   "cell_type": "code",
   "execution_count": null,
   "metadata": {
    "deletable": false,
    "editable": false
   },
   "outputs": [],
   "source": [
    "# Save your notebook first, then run this cell to export your submission.\n",
    "grader.export(run_tests=True)"
   ]
  },
  {
   "cell_type": "markdown",
   "metadata": {},
   "source": [
    " "
   ]
  }
 ],
 "metadata": {
  "kernelspec": {
   "display_name": "Python 3",
   "language": "python",
   "name": "python3"
  },
  "language_info": {
   "codemirror_mode": {
    "name": "ipython",
    "version": 3
   },
   "file_extension": ".py",
   "mimetype": "text/x-python",
   "name": "python",
   "nbconvert_exporter": "python",
   "pygments_lexer": "ipython3",
   "version": "3.10.12"
  },
  "otter": {
   "OK_FORMAT": true,
   "tests": {}
  }
 },
 "nbformat": 4,
 "nbformat_minor": 2
}
