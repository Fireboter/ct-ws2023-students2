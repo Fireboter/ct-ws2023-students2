{
 "cells": [
  {
   "cell_type": "code",
   "execution_count": null,
   "metadata": {
    "deletable": false,
    "editable": false
   },
   "outputs": [],
   "source": [
    "# Initialize Otter\n",
    "import otter\n",
    "grader = otter.Notebook(\"01_arbeitsumgebung.ipynb\")"
   ]
  },
  {
   "attachments": {},
   "cell_type": "markdown",
   "metadata": {},
   "source": [
    "# Computational Thinking WS2023/24\n",
    "**Autoren:** \n",
    "+ Dr. Benedikt Zönnchen\n",
    "+ Prof. Martin Hobelsberger\n",
    "+ Prof. Benedikt Dietrich"
   ]
  },
  {
   "cell_type": "markdown",
   "metadata": {},
   "source": [
    "Dies ist ein sog. *Jupyter-Notebook*. Es bietet uns und Ihnen die Möglichkeit Programmiercode interaktiv auszuführen und diesen in Text einzubetten.\n",
    "\n",
    "Das Notebook besteht aus Zellen eines bestimmten Typs:\n",
    "+ reiner Text, \n",
    "+ formartierter Text (Markdown), \n",
    "+ Code.\n",
    "\n",
    "Sie können alle Zellen **auswerten** jedoch nur Code-Zellen **ausführen**.\n",
    "\n",
    "Diese Zelle ist eine sog. Markdown-Zelle d.h. formartierter Text."
   ]
  },
  {
   "cell_type": "markdown",
   "metadata": {},
   "source": [
    "***"
   ]
  },
  {
   "cell_type": "markdown",
   "metadata": {},
   "source": [
    "***Aufgabe 1***\n",
    "\n",
    "Der folgende Code sollte eigentlich die verstrichenen Sekunden innerhalb von 5 Tagen berechnen doch hat sich in der Formel ein Fehler eingeschlichen. Korrigieren Sie den Fehler!"
   ]
  },
  {
   "cell_type": "code",
   "execution_count": null,
   "metadata": {
    "tags": []
   },
   "outputs": [],
   "source": [
    "days = 6\n",
    "result = days * 24 * 60\n",
    "result"
   ]
  },
  {
   "cell_type": "code",
   "execution_count": null,
   "metadata": {
    "deletable": false,
    "editable": false
   },
   "outputs": [],
   "source": [
    "grader.check(\"q1\")"
   ]
  },
  {
   "cell_type": "markdown",
   "metadata": {},
   "source": [
    "***"
   ]
  },
  {
   "cell_type": "markdown",
   "metadata": {},
   "source": [
    "## Debuggen von Programmen"
   ]
  },
  {
   "cell_type": "markdown",
   "metadata": {},
   "source": [
    "**Hinweis: In dem folgenden Teil wollen wir Sie mit dem *debuggen* eines Programms vertraut machen. Falls noch nicht geschehen, müssen Sie hierfür das Notebook in VS Code öffnen, entweder im Datahub oder lokal (siehe PDF).**"
   ]
  },
  {
   "cell_type": "markdown",
   "metadata": {},
   "source": [
    "In der vorherigen Aufgabe konnten Sie den Fehler einfach durch lesen und korrigieren des Source Codes beheben. In größeren Programmen ist das oft leider nicht so einfach, da die Programme zu lang sind, um Fehler direkt zu erkennen und häufig viele Verzweigungen beinhalten, die es schwer machen, den Programmverlauf nur durch Lesen des Codes nachzuvollziehen. Eines der wichtigsten Werkzeuge von Programmierer:innen ist daher der *Debugger*. \n",
    "\n",
    "Der Debugger ermöglicht es, Programmierer:innen, das Programm Schritt für Schritt auszuführen und hierbei zu beobachten, wie die Werte von Variablen verändert werden. Hierfür muss zunächst die Ausführung des Programms mit Hilfe eines *Breakpoints* an einem gewünschten Punkt gestoppt werden. Um einen Breakpoint zu setzen, müssen Sie links neben die Codezeile, in der die Ausführung gestoppt werden soll, klicken sodass ein roter Punkt erscheint. Ein korrekt gesetzter Breakpoint sieht so aus:\n",
    "\n",
    "![](images/breakpoint.png)"
   ]
  },
  {
   "cell_type": "markdown",
   "metadata": {},
   "source": [
    "***Aufgabe 2***\n",
    "\n",
    "Setzen Sie in folgendem, Ihnen bereits bekannten Code in der dritten Zeile (mit `result = days ...`) einen Breakpoint. Klicken Sie dann rechts neben den Play-Button (mit dem Sie Zellen ausführen) und wählen Sie *\"Debug Cell\"* aus, wie folgender Screenshot zeigt:\n",
    "\n",
    "![](images/debug_cell.png)\n",
    "\n",
    "Die Zeile wird daraufhin markiert und links neben dem Breakpoint erscheint ein Pfeil. Dieser Pfeil markiert, an welcher Stelle der Debugger das Programm aktuell angehalten hat. "
   ]
  },
  {
   "cell_type": "code",
   "execution_count": null,
   "metadata": {},
   "outputs": [],
   "source": [
    "result = 0\n",
    "days = 6\n",
    "result = days * 24 * 60\n",
    "result"
   ]
  },
  {
   "cell_type": "markdown",
   "metadata": {},
   "source": [
    "Durch das Starten des Debuggers wechselt VS Code in den Debug-Modus. Es erscheint oben eine Debug-Tool-Leiste:\n",
    "\n",
    "![](images/debug_toolbar.png)\n",
    "\n",
    "Außerdem erscheint auf der linken Seite von VS Code ein Fenster namens *Variables*. Dieses Fenster zeigt die aktuellen Werte von Variablen an."
   ]
  },
  {
   "cell_type": "markdown",
   "metadata": {},
   "source": [
    "Prüfen Sie die angezeigten Werte (es sollte immer noch die Zeile `result = days ...` durch den Debugger markiert sein). Wurde die aktuelle Zeile schon ausgeführt oder nicht?"
   ]
  },
  {
   "cell_type": "markdown",
   "metadata": {},
   "source": [
    "### Den Debugger steuern\n",
    "\n",
    "Mit Hilfe der Debug-Tool-Leiste können Sie den debugger steuern. Folgende Grafik zeigt die verschiedenen Möglichkeiten:\n",
    "\n",
    "![](images/debug_toolbar_explained.drawio.svg)\n",
    "\n",
    "* **Continue**: Mit Hilfe von Continue setzen Sie die Programmausführung fort. Falls der Debugger auf noch einen weiteren Breakpoint trifft, wird das Programm dort angehalten. Ansonsten wird das Programm bis zum Ende ausgeführt.\n",
    "\n",
    "* **Step Over**: Dieser Befehl führt die aktuelle Zeile aus und bleibt in der nächsten Zeile wieder stehen. Handelt es sich bei der aktuellen Zeile um eine Funktion, springt der Debugger ***nicht*** in die Funktion, sondern führt diese nur aus.\n",
    "\n",
    "* **Step Into**: Dieser Befehl führt die aktuelle Zeile aus und bleibt in der nächsten Zeile wieder stehen. Handelt es sich bei der aktuellen Zeile um einen Funktionsaufruf, springt der Debugger in die Funktion und bleibt dort in der ersten Zeile stehen. \n",
    "\n",
    "* **Step Out**: Dieser Befehl verlässt die aktuelle Funktion und springt eine Ebene im Call-Stack weiter nach oben (Sie werden diesen Befehl verstehen, wenn Sie mehr programmiert und Funktionen verstanden haben).\n",
    "\n",
    "* **Restart**: Startet das Programm neu und führt es bis zum ersten Breakpoint aus.\n",
    "\n",
    "* **Disconnect**: Trennt den Debugger vom Programm. Das Programm wird dann ohne Stops bis zum Ende ausgeführt."
   ]
  },
  {
   "cell_type": "markdown",
   "metadata": {},
   "source": [
    "***Aufgabe 3***\n",
    "\n",
    "Sollte der Debugger aktuell noch in obigem Programm stehen, trennen Sie die Verbindung durch Klicken auf *Disconnect*.\n",
    "\n",
    "Folgender Code zeigt ein etwas komplexeres Programm mit einigen für Sie noch unverständlichen Befehlen. Das macht aber nichts, da Sie sich die Bedeutung einfach mit Hilfe des Debuggers erschließen werden."
   ]
  },
  {
   "cell_type": "code",
   "execution_count": null,
   "metadata": {
    "deletable": false,
    "editable": false
   },
   "outputs": [],
   "source": [
    "def calculate_sum(numbers):\n",
    "    sum_result = 1\n",
    "    for num in numbers:\n",
    "        sum_result = sum_result * num\n",
    "    return sum_result\n",
    "\n",
    "def calculate_average(numbers):\n",
    "    sum_result = calculate_sum(numbers)\n",
    "    average_result = sum_result / len(numbers)\n",
    "    return average_result\n",
    "\n",
    "numbers = [10, 15, 20, 25, 30]\n",
    "sum_result = calculate_sum(numbers)\n",
    "average_result = calculate_average(numbers)\n",
    "\n",
    "print(\"List of Numbers:\", numbers)\n",
    "print(\"Sum:\", sum_result)\n",
    "print(\"Average:\", average_result)"
   ]
  },
  {
   "cell_type": "markdown",
   "metadata": {
    "deletable": false,
    "editable": false
   },
   "source": [
    "1. Klicken Sie als erstes in Ihrer Jupyter-Notebook-Leiste auf *Restart*. Hierdurch werden alle vorherigen Ergebnisse und Variablen gelöscht und das Python-Kernel neu gestartet.\n",
    "\n",
    "1. Setzen Sie nun einen Breakpoint in der Zeile `numbers = [10, 15, ...`. Starten Sie den Debugger.\n",
    "\n",
    "1. Nutzen Sie nun *Step Over*, um die folgenden Code-Zeilen auszuführen. Beobachten Sie hierbei, wie mit jedem Schritt Variablenwerte aktualisiert werden. Beobachten Sie außerdem, was passiert, wenn Sie die Zeilen, die mit `print(...)` beginnen, ausführen. Notieren Sie, was die einzelnen Zeilen für eine Aufgabe im Programm haben. Sie können dies, indem Sie hinter eine Code-Zeilen z.B. folgendes schreiben: \n",
    "\n",
    "    ```numbers = [10, 15, 20, 25, 30] # does something fancy```\n",
    "\n",
    "    Man nennt dies einen Kommentar. Kommentare helfen Programmierer:innen Code zu dokumentieren. Alles was hinter einem Hashtag `#` steht wird vom Python-Interpreter ignoriert.\n",
    "\n",
    "1. Die Funktion `sum_result...` liefert aktuell nicht, wie der Name suggeriert, die Summe der Zahlen zurück sondern berechnet etwas seltsames. Nutzen Sie *Step Into* in der Debug-Tool-Leiste, um in die Funktion zu springen. Führen Sie dort die Zeilen Schritt für Schritt aus und beobachten Sie, wie sich der Debugger mit jedem Klick auf *Step Into* oder auch *Step Over* durch das Programm bewegt. Was scheint der Befehl `for...` zu bewirken? Welche Werte nimmt `num` beim Ausführen an?\n",
    "\n",
    "1. Die Funktion `sum_result()` sollte eigentlich die Summe der Zahlen in `numbers` berechnen und zurückliefern. Suchen Sie mit Hilfe des Debuggers die Fehler in der Funktion und beheben Sie diese."
   ]
  },
  {
   "cell_type": "code",
   "execution_count": null,
   "metadata": {
    "deletable": false,
    "editable": false
   },
   "outputs": [],
   "source": [
    "grader.check(\"q3\")"
   ]
  },
  {
   "cell_type": "markdown",
   "metadata": {},
   "source": [
    "***"
   ]
  },
  {
   "cell_type": "markdown",
   "metadata": {},
   "source": [
    "### Üben, üben, üben\n",
    "\n",
    "Sie haben nun die Grundlagen des Debuggens ausprobiert und das Grundkonzept verstanden. Der Debugger ermöglicht es Ihnen Fehler viel schneller in Ihrem Code zu finden und kann Ihnen so enorm viel Zeit bei der Fehlersuche in kommenden Programmieraufgaben sparen.\n",
    "\n",
    "Zu Beginn werden Sie eher mit dem Debugger und seinem anfangs etwas gewöhnungsbedürftigem Verhalten kämpfen. Geben Sie nicht auf und investieren Sie die Zeit. Mit etwas Übung werden Sie das Werkzeug schnell beherrschen und bekommen die investierte Zeit um ein Vielfaches zurück!"
   ]
  },
  {
   "cell_type": "markdown",
   "metadata": {},
   "source": [
    "***"
   ]
  },
  {
   "cell_type": "markdown",
   "metadata": {},
   "source": [
    "### Bonuspunkt\n",
    "\n",
    "Wenn Sie sich mit dem Debugger vertraut gemacht haben und die obigen Aufgaben gelöst haben, gehen Sie im Rahmen der Übung auf Ihren Dozenten zu. Demonstrieren Sie Ihre neu erworbenen Fähigkeit, um einen Bonuspunkt zu ergattern."
   ]
  },
  {
   "cell_type": "markdown",
   "metadata": {
    "deletable": false,
    "editable": false
   },
   "source": [
    "---\n",
    "\n",
    "**Hinweis**: Durch Auswertung der folgenden Zelle werden alle Tests ausgeführt.\n",
    "Sie sollten das Notebook zuvor bis hier hin von oben nach unten ausgewertet haben.\n",
    "\n"
   ]
  },
  {
   "cell_type": "code",
   "execution_count": null,
   "metadata": {
    "deletable": false,
    "editable": false
   },
   "outputs": [],
   "source": [
    "grader.check_all()"
   ]
  },
  {
   "cell_type": "markdown",
   "metadata": {
    "deletable": false,
    "editable": false
   },
   "source": [
    "## Abgabe\n",
    "\n",
    "Stellen Sie sicher, dass Sie alle Zellen von oben nach unten ausgeführt haben und Ihr Notebook abgespeichert haben. Wenn Sie die folgende Zelle ausführen wird eine zip-Datei generiert. Laden Sie diese Datei in Moodle in der entsprechenden Abgabe hoch!"
   ]
  },
  {
   "cell_type": "code",
   "execution_count": null,
   "metadata": {
    "deletable": false,
    "editable": false
   },
   "outputs": [],
   "source": [
    "grader.export(pdf=False, force_save=True, run_tests=True)"
   ]
  },
  {
   "cell_type": "markdown",
   "metadata": {},
   "source": [
    " "
   ]
  }
 ],
 "metadata": {
  "kernelspec": {
   "display_name": "Python 3 (ipykernel)",
   "language": "python",
   "name": "python3"
  },
  "language_info": {
   "codemirror_mode": {
    "name": "ipython",
    "version": 3
   },
   "file_extension": ".py",
   "mimetype": "text/x-python",
   "name": "python",
   "nbconvert_exporter": "python",
   "pygments_lexer": "ipython3",
   "version": "3.10.12"
  },
  "otter": {
   "OK_FORMAT": false,
   "assignment_name": "training00",
   "tests": {
    "q1": "from otter.test_files import test_case\n\nOK_FORMAT = False\n\nname = \"q1\"\npoints = None\n\n@test_case(points=0.5, hidden=False, \n    success_message=\"Das ist schonmal ein Anfang!\")\ndef test_var_days(days):\n    expected = 5\n    assert days == expected, \"Die Variable days muss den Wert 5 enthalten.\"\n    \n@test_case(points=1.0, hidden=False, \n    success_message=\"Korrekt :)!\")\ndef test_result(result):\n    expected = 432000\n    assert result == expected, f\"{result} ist nicht die richtige Anzahl an Sekunden.\"\n\n",
    "q3": "from otter.test_files import test_case\n\nOK_FORMAT = False\n\nname = \"q3\"\npoints = None\n\n@test_case(points=1.0, hidden=False, \n    success_message=\"Sie haben alle Fehler in calculate_sum() gefunden :)!\")\ndef test_result():\n    numbers = [1, 2, 3, 4]\n    expected = 10\n    result = calculate_sum(numbers)\n    assert result == expected, f\"{result} ist nicht korrekt.\"\n\n"
   }
  },
  "vscode": {
   "interpreter": {
    "hash": "b0fa6594d8f4cbf19f97940f81e996739fb7646882a419484c72d19e05852a7e"
   }
  }
 },
 "nbformat": 4,
 "nbformat_minor": 4
}
