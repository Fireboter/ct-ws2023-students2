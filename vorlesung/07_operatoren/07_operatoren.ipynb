{
 "cells": [
  {
   "cell_type": "code",
   "execution_count": null,
   "metadata": {
    "deletable": false,
    "editable": false
   },
   "outputs": [],
   "source": [
    "# Initialize Otter\n",
    "import otter\n",
    "grader = otter.Notebook(\"07_operatoren.ipynb\")"
   ]
  },
  {
   "cell_type": "markdown",
   "metadata": {},
   "source": [
    "# Computational Thinking - WS 2023/2024\n",
    "\n",
    "## Operatoren\n",
    "\n",
    "Autor: Prof. Dr.-Ing. Benedikt Dietrich"
   ]
  },
  {
   "cell_type": "markdown",
   "metadata": {},
   "source": [
    "### Aufgabe 1\n",
    "\n",
    "TBD"
   ]
  },
  {
   "cell_type": "markdown",
   "metadata": {},
   "source": [
    "### Aufgabe 2\n",
    "\n",
    "TBD"
   ]
  },
  {
   "cell_type": "markdown",
   "metadata": {},
   "source": [
    "### Aufgabe 3 - Uhrzeit ausgeben\n",
    "\n",
    "Die Variable `current_time_seconds` enthält die vergangenen Sekunden seit einer bestimmten Aktion (z.B. einem Tastendruck). Berechnen Sie die Stunden, Minuten und Sekunden die seit der Aktion vergangen sind und geben Sie die Zeit mit Hilfe des vorgegebenen Befehls im Format hh:mm:ss aus (z.B. 03:25:45) aus.\n",
    "\n",
    "\n"
   ]
  },
  {
   "cell_type": "code",
   "execution_count": null,
   "metadata": {
    "deletable": false,
    "editable": false
   },
   "outputs": [],
   "source": [
    "current_time_seconds = 12345\n",
    "hours = 0\n",
    "minutes = 0\n",
    "seconds = 0\n",
    "\n",
    "\n",
    "# BEGIN SOLUTION\n",
    "hours = current_time_seconds // 3600\n",
    "current_time_seconds = current_time_seconds - 3600 * hours\n",
    "minutes = current_time_seconds // 60\n",
    "seconds = current_time_seconds - 60 * minutes\n",
    "# END SOLUTION\n",
    "\n",
    "print(f\"{hours:02d}:{minutes:02d}:{seconds:02d}\")"
   ]
  }
 ],
 "metadata": {
  "kernelspec": {
   "display_name": "Python 3",
   "language": "python",
   "name": "python3"
  },
  "language_info": {
   "codemirror_mode": {
    "name": "ipython",
    "version": 3
   },
   "file_extension": ".py",
   "mimetype": "text/x-python",
   "name": "python",
   "nbconvert_exporter": "python",
   "pygments_lexer": "ipython3",
   "version": "3.10.12"
  },
  "otter": {
   "OK_FORMAT": true,
   "assignment_name": "07_operatoren",
   "tests": {}
  }
 },
 "nbformat": 4,
 "nbformat_minor": 2
}
