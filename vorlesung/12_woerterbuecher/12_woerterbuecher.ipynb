{
 "cells": [
  {
   "cell_type": "code",
   "execution_count": null,
   "metadata": {
    "deletable": false,
    "editable": false
   },
   "outputs": [],
   "source": [
    "# Initialize Otter\n",
    "import otter\n",
    "grader = otter.Notebook(\"12_woerterbuecher.ipynb\")"
   ]
  },
  {
   "cell_type": "markdown",
   "metadata": {},
   "source": [
    "# Computational Thinking WS2022/23\n",
    "**Autoren:** \n",
    "+ Prof. Dr. Benedikt Dietrich"
   ]
  },
  {
   "cell_type": "markdown",
   "metadata": {},
   "source": [
    "### 1. Verschlüsselung von Text\n",
    "\n",
    "Ein einfaches Codierverfahren ist es, bei einem Text Buchstaben durch andere Buchstaben zu ersetzen. Ein Beispiel eines Verschlüsselungsschemas ist gegeben durch:\n",
    "\n",
    "```text\n",
    "    a -> d\n",
    "    b -> f\n",
    "    c -> k\n",
    "    d -> a\n",
    "    e -> n\n",
    "    f -> o\n",
    "    g -> q\n",
    "    h -> j\n",
    "    i -> h\n",
    "    j -> l\n",
    "    k -> m\n",
    "    l -> s\n",
    "    m -> y\n",
    "    n -> x\n",
    "    o -> u\n",
    "    p -> t\n",
    "    q -> w\n",
    "    r -> b\n",
    "    s -> g\n",
    "    t -> i\n",
    "    u -> e\n",
    "    v -> c\n",
    "    w -> p\n",
    "    x -> r\n",
    "    y -> v\n",
    "    z -> z\n",
    "```\n",
    "\n",
    "Der Text\n",
    "\n",
    "```text\n",
    "    dies ist der zu verschluesselnde text\n",
    "```\n",
    "\n",
    "wird Buchstabe für Buchstabe mit diesem Schema verschlüsselt und ergibt dann:\n",
    "\n",
    "```text\n",
    "    ahng hgi anb ze cnbgkjsenggnsxan inri\n",
    "```"
   ]
  },
  {
   "cell_type": "markdown",
   "metadata": {
    "deletable": false,
    "editable": false
   },
   "source": [
    "### 1.1 Wörterbuch erstellen\n",
    "\n",
    "Erstellen Sie ein Wörterbuch `encoding_scheme`, welches zur Verschlüsselung verwendet werden kann."
   ]
  },
  {
   "cell_type": "code",
   "execution_count": null,
   "metadata": {
    "tags": []
   },
   "outputs": [],
   "source": [
    "..."
   ]
  },
  {
   "cell_type": "markdown",
   "metadata": {
    "deletable": false,
    "editable": false
   },
   "source": [
    "### 1.2 Verschlüsseln\n",
    "\n",
    "Schreiben Sie eine Funktion `encode(scheme, text)`, welcher ein Schlüssel und ein zu codierender Text übergeben wird. Die Funktion soll den Text wie beschrieben verschlüsseln und das Ergebnis als String zurückliefern."
   ]
  },
  {
   "cell_type": "code",
   "execution_count": null,
   "metadata": {
    "tags": []
   },
   "outputs": [],
   "source": [
    "..."
   ]
  },
  {
   "cell_type": "code",
   "execution_count": null,
   "metadata": {
    "tags": []
   },
   "outputs": [],
   "source": [
    "# Soll den Text verschlüsselt ausgeben\n",
    "print(encode(encoding_scheme, \"dies ist der zu verschluesselnde text\"))"
   ]
  },
  {
   "cell_type": "markdown",
   "metadata": {
    "deletable": false,
    "editable": false
   },
   "source": [
    "### 1.3 Entschlüsseln\n",
    "\n",
    "Entwickeln Sie nun die Funktion `decode(scheme, text)`, welche den Text wieder entschlüsselt. Erzeugen Sie hierfür in der Funktion aus `scheme` ein Wörterbuch zum entschlüsseln und rufen Sie damit die Funktion `encode()` auf."
   ]
  },
  {
   "cell_type": "code",
   "execution_count": null,
   "metadata": {
    "tags": []
   },
   "outputs": [],
   "source": [
    "def decode(scheme, text):\n",
    "    inv_scheme = dict((v, k) for k, v in scheme.items())\n",
    "    return encode(inv_scheme, text)\n"
   ]
  },
  {
   "cell_type": "code",
   "execution_count": null,
   "metadata": {
    "tags": []
   },
   "outputs": [],
   "source": [
    "encoded_text = encode(encoding_scheme, \"dies ist der zu verschluesselnde text\")\n",
    "decoded_text = decode(encoding_scheme, encoded_text)\n",
    "print(decoded_text)"
   ]
  }
 ],
 "metadata": {
  "kernelspec": {
   "display_name": "Python 3",
   "language": "python",
   "name": "python3"
  },
  "language_info": {
   "codemirror_mode": {
    "name": "ipython",
    "version": 3
   },
   "file_extension": ".py",
   "mimetype": "text/x-python",
   "name": "python",
   "nbconvert_exporter": "python",
   "pygments_lexer": "ipython3",
   "version": "3.10.12"
  },
  "otter": {
   "OK_FORMAT": false,
   "assignment_name": "11_dateioperationen",
   "tests": {}
  }
 },
 "nbformat": 4,
 "nbformat_minor": 2
}
