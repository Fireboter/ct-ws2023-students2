{
 "cells": [
  {
   "cell_type": "code",
   "execution_count": null,
   "metadata": {
    "deletable": false,
    "editable": false
   },
   "outputs": [],
   "source": [
    "# Initialize Otter\n",
    "import otter\n",
    "grader = otter.Notebook(\"08_kontrollstrukturen.ipynb\")"
   ]
  },
  {
   "cell_type": "markdown",
   "metadata": {},
   "source": [
    "# Computational Thinking - WS 2023/2024\n",
    "\n",
    "## Kontrollstrukturen\n",
    "\n",
    "Autor: Prof. Dr.-Ing. Benedikt Dietrich"
   ]
  },
  {
   "cell_type": "markdown",
   "metadata": {},
   "source": [
    "***"
   ]
  },
  {
   "cell_type": "markdown",
   "metadata": {},
   "source": [
    "### Aufgabe 1 - Nullstellen\n",
    "\n",
    "Schreiben Sie ein Programm, das für gegebene Variablen a, b und c die reelle(n) Lösung(en) der Gleichung\n",
    "\n",
    "$$\n",
    "ax^2 + bx + c = 0\n",
    "$$\n",
    "\n",
    "berechnet.\n",
    "\n",
    "Verwenden Sie hierfür die Mitternachtsformel:\n",
    "\n",
    "$$\n",
    "x_{1,2} = \\frac{-b \\pm \\sqrt{b^2 - 4ac}}{2a}\n",
    "$$\n",
    "\n",
    "Das Ergebnis soll (abhängig von der Anzahl an Nullstellen) wie folgt ausgegeben werden:\n",
    "\n",
    "```text\n",
    "    Die Gleichung hat keine Nullstellen.\n",
    "```\n",
    "\n",
    "```text\n",
    "    Die Gleichung hat eine Nullstelle an der Stelle 2.\n",
    "```\n",
    "\n",
    "```text\n",
    "    Die Gleichung hat zwei Nullstellen.\n",
    "    Die erste Nullstelle ist an der Stelle 1.\n",
    "    Die zweite Nullstelle ist an der Stelle 4.\n",
    "```"
   ]
  },
  {
   "cell_type": "markdown",
   "metadata": {},
   "source": [
    "Hinweis: Die Wurzel aus einer Zahl kann mit Hilfe der Funktion `sqrt` berechnet werden. Die Funktion ist Teil des `math`-Moduls und muss daher zunächst mit folgendem Befehl importiert werden:"
   ]
  },
  {
   "cell_type": "code",
   "execution_count": null,
   "metadata": {},
   "outputs": [],
   "source": [
    "from math import sqrt\n",
    "print(sqrt(2))"
   ]
  },
  {
   "cell_type": "code",
   "execution_count": null,
   "metadata": {
    "tags": []
   },
   "outputs": [],
   "source": [
    "from math import sqrt # Für die Berechnung der Wurzel\n",
    "a = 1\n",
    "b = 4\n",
    "c = 3\n",
    "\n",
    "..."
   ]
  },
  {
   "cell_type": "markdown",
   "metadata": {},
   "source": [
    "***"
   ]
  },
  {
   "cell_type": "markdown",
   "metadata": {},
   "source": [
    "## Ein Essensautomat für die Mensa"
   ]
  },
  {
   "cell_type": "markdown",
   "metadata": {},
   "source": [
    "Im folgenden Notebook soll eine Menü-Führung für den Mensa-Essensautomat \"DasKlingtJaLecker\" entwickelt werden. Das Menü soll als einfacher Text ausgegeben werden. Der Nutzer kann dann mit der Tastatur sein Essen zusammenstellen.\n",
    "\n",
    "Die einzelnen Menüpunkte sind mit folgendem Text gegeben:\n",
    "\n",
    "```text\n",
    "Bitte wählen Sie Ihre Vorspeise:\n",
    "a) Suppe\n",
    "b) keine Vorspeise\n",
    "\n",
    "Bitte wählen Sie Ihr Hauptgericht: \n",
    "\n",
    "a) Fleischgericht\n",
    "b) Fisch\n",
    "c) Vegetarisch\n",
    "d) kein Hauptgericht\n",
    "\n",
    "Bitte wählen Sie Ihre Nachspeise:\n",
    "a) Kekse\n",
    "b) Pudding\n",
    "c) keine Nachspeise\n",
    "```\n",
    "\n",
    "Am Ende soll eine Zusammenfassung der Bestellung in folgender Form ausgegeben werden:\n",
    "\n",
    "```text\n",
    "    Sie haben gewählt:\n",
    "\n",
    "    Vorspeise: keine Vorspeise\n",
    "    Hauptgericht: Fisch\n",
    "    Nachspeise: Kekse\n",
    "```\n",
    "\n",
    "Sollte ein Nutzer sowohl Vor-, Haupt- und Nachspeise gewählt haben, soll außerdem am Ende die folgende Nachricht ausgegeben werden:\n",
    "\n",
    "```text\n",
    "    Hunger ist der beste Koch!\n",
    "```\n",
    "\n",
    "Wählt ein Nutzer weder Vor-, Haupt- und Nachspeise, soll am am Ende die folgende Nachricht ausgegeben werden:\n",
    "\n",
    "```text\n",
    "    Sie haben wohl keinen Hunger. Vielleicht sehen wir uns später nochmal.\n",
    "```"
   ]
  },
  {
   "cell_type": "markdown",
   "metadata": {},
   "source": [
    "### Einschub Nutzereingaben\n",
    "\n",
    "Mit Hilfe der Funktion `input()` können Sie den Nutzer um eine Eingabe bitten. \n",
    "\n",
    "Vollziehen Sie folgende Codebeispiele nach, um zu verstehen, wie die Funktion zu nutzen ist."
   ]
  },
  {
   "cell_type": "code",
   "execution_count": null,
   "metadata": {},
   "outputs": [],
   "source": [
    "name = input(\"Bitte geben Sie Ihren Namen ein: \")\n",
    "print(f\"Vielen Dank {name}\")"
   ]
  },
  {
   "cell_type": "code",
   "execution_count": null,
   "metadata": {},
   "outputs": [],
   "source": [
    "alter = input(\"Bitte geben Sie Ihr Alter ein: \")\n",
    "print(f\"Sie sind {alter} Jahre jung.\")\n",
    "print(f\"Der Typ von alter ist: {type(alter)}\")"
   ]
  },
  {
   "cell_type": "code",
   "execution_count": null,
   "metadata": {},
   "outputs": [],
   "source": [
    "alter = input(\"Bitte geben Sie Ihr Alter ein: \")\n",
    "print(f\"Sie sind {alter} Jahre jung.\")"
   ]
  },
  {
   "cell_type": "code",
   "execution_count": null,
   "metadata": {},
   "outputs": [],
   "source": [
    "alter = int(input(\"Bitte geben Sie Ihr Alter ein: \"))\n",
    "print(f\"Sie sind {alter} Jahre jung.\")"
   ]
  },
  {
   "cell_type": "markdown",
   "metadata": {},
   "source": [
    "### Einschub - Divide and Conquer\n",
    "\n",
    "Die oben beschriebenen Anforderungen an unseren Automaten klingen erst einmal komplex. Um eine komplexe Aufgabe in der Informatik zu lösen bedient man sich des Divide & Conquer-Ansatzes: Man teilt das große, scheinbar komplexe oder gar unlösbare Problem in mehrere kleinere Probleme, die sich für sich lösen lassen (divide). Die Kombination der Einzellösungen ergibt dann idealerweise die Lösung des Gesamtproblems (conquer)."
   ]
  },
  {
   "cell_type": "markdown",
   "metadata": {},
   "source": [
    "### Aufgabe 2\n",
    "\n",
    "Zerlegen Sie obige Anforderungen in mindestens drei Teilprobleme."
   ]
  },
  {
   "cell_type": "markdown",
   "metadata": {},
   "source": [
    "_Ersetzen Sie diesen Text durch Ihre Antwort._"
   ]
  },
  {
   "cell_type": "markdown",
   "metadata": {},
   "source": [
    "***"
   ]
  },
  {
   "cell_type": "markdown",
   "metadata": {},
   "source": [
    "### Aufgabe 3\n",
    "\n",
    "Schreiben Sie ein Programm, welcher den Nutzer auffordert a, b oder c auszuwählen. Wenn der Nutzer eine falsche Eingabe tätigt, soll Ihr Programm eine Fehlermeldung ausgeben. Ansonsten soll ausgegeben werden:\n",
    "\n",
    "```text\n",
    "    Sie haben a) gewählt\n",
    "```\n",
    "\n",
    "wobei a natürlich durch den entsprechenden Buchstaben zu ersetzen ist."
   ]
  },
  {
   "cell_type": "code",
   "execution_count": null,
   "metadata": {
    "tags": []
   },
   "outputs": [],
   "source": [
    "..."
   ]
  },
  {
   "cell_type": "markdown",
   "metadata": {},
   "source": [
    "***"
   ]
  },
  {
   "cell_type": "markdown",
   "metadata": {},
   "source": [
    "### Aufgabe 4\n",
    "\n",
    "Ändern Sie obigen Code nun so ab, dass der Nutzer so lange aufgefordert wird auszuwählen, bis er entweder a, b oder c eingetippt hat."
   ]
  },
  {
   "cell_type": "code",
   "execution_count": null,
   "metadata": {
    "tags": []
   },
   "outputs": [],
   "source": [
    "choice = None\n",
    "\n",
    "..."
   ]
  }
 ],
 "metadata": {
  "kernelspec": {
   "display_name": "Python 3",
   "language": "python",
   "name": "python3"
  },
  "language_info": {
   "codemirror_mode": {
    "name": "ipython",
    "version": 3
   },
   "file_extension": ".py",
   "mimetype": "text/x-python",
   "name": "python",
   "nbconvert_exporter": "python",
   "pygments_lexer": "ipython3",
   "version": "3.10.12"
  },
  "otter": {
   "OK_FORMAT": true,
   "assignment_name": "07_operatoren",
   "tests": {}
  }
 },
 "nbformat": 4,
 "nbformat_minor": 2
}
