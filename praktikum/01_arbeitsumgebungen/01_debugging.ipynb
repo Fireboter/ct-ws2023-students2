{
 "cells": [
  {
   "cell_type": "code",
   "execution_count": null,
   "metadata": {
    "deletable": false,
    "editable": false
   },
   "outputs": [],
   "source": [
    "# Initialize Otter\n",
    "import otter\n",
    "grader = otter.Notebook(\"01_debugging.ipynb\")"
   ]
  },
  {
   "attachments": {},
   "cell_type": "markdown",
   "metadata": {},
   "source": [
    "# Computational Thinking WS2023/24\n",
    "**Autoren:** \n",
    "+ Dr. Benedikt Zönnchen\n",
    "+ Prof. Martin Hobelsberger\n",
    "+ Prof. Benedikt Dietrich"
   ]
  },
  {
   "cell_type": "markdown",
   "metadata": {},
   "source": [
    "***"
   ]
  },
  {
   "cell_type": "markdown",
   "metadata": {},
   "source": [
    "## Debuggen von Programmen"
   ]
  },
  {
   "cell_type": "markdown",
   "metadata": {},
   "source": [
    "**Hinweis: In dem folgenden Teil wollen wir Sie mit dem *debuggen* eines Programms vertraut machen. Falls noch nicht geschehen, müssen Sie hierfür das Notebook in VS Code öffnen, entweder im Datahub oder lokal (siehe PDF).**"
   ]
  },
  {
   "cell_type": "markdown",
   "metadata": {},
   "source": [
    "In der vorherigen Aufgabe konnten Sie den Fehler einfach durch Lesen und Korrigieren des Source Codes beheben. In größeren Programmen ist das oft leider nicht so einfach, da die Programme zu lang sind, um Fehler direkt zu erkennen und häufig viele Verzweigungen beinhalten, die es schwer machen, den Programmverlauf nur durch Lesen des Codes nachzuvollziehen. Eines der wichtigsten Werkzeuge von Programmierer:innen ist daher der *Debugger*. \n",
    "\n",
    "Der Debugger ermöglicht es, Programmierer:innen, das Programm Schritt für Schritt auszuführen und hierbei zu beobachten, wie die Werte von Variablen verändert werden. Hierfür muss zunächst die Ausführung des Programms mit Hilfe eines *Breakpoints* an einem gewünschten Punkt gestoppt werden. Meist ist das eine Stelle, an der man den Fehler vermutet oder einfach der Beginn des Programms. \n",
    "\n",
    "Um einen Breakpoint zu setzen, müssen Sie links neben die Codezeile, in der die Ausführung gestoppt werden soll, klicken sodass ein roter Punkt erscheint. Ein korrekt gesetzter Breakpoint sieht so aus:\n",
    "\n",
    "![](images/breakpoint.png)"
   ]
  },
  {
   "cell_type": "markdown",
   "metadata": {},
   "source": [
    "***Aufgabe 1***\n",
    "\n",
    "Setzen Sie in folgendem, Ihnen bereits bekannten Code in der dritten Zeile (mit `result = days ...`) einen Breakpoint. Klicken Sie dann rechts neben den Play-Button auf den kleinen Pfeil und wählen Sie *\"Debug Cell\"* aus. Folgender Screenshot zeigt, wo Sie klicken müssen:\n",
    "\n",
    "![](images/debug_cell.png)\n",
    "\n",
    "Die Zeile wird daraufhin markiert und links neben dem Breakpoint erscheint ein Pfeil. Dieser Pfeil markiert, an welcher Stelle der Debugger das Programm aktuell angehalten hat. "
   ]
  },
  {
   "cell_type": "code",
   "execution_count": null,
   "metadata": {},
   "outputs": [],
   "source": [
    "my_result = 0\n",
    "no_of_days = 6\n",
    "my_result = no_of_days * 24 * 60\n",
    "my_result"
   ]
  },
  {
   "cell_type": "markdown",
   "metadata": {},
   "source": [
    "Durch das Starten des Debuggers wechselt VS Code in den Debug-Modus. Es erscheint oben eine Debug-Tool-Leiste:\n",
    "\n",
    "![](images/debug_toolbar.png)\n",
    "\n",
    "Außerdem erscheint auf der linken Seite von VS Code ein Fenster namens *Variables*, *Watch*, *Call Stack* und *Breakpoints*. Das für uns zunächst wichtigste Fenster ist *Variables*. Hier können wir den aktuellen Werte von Variablen sehen."
   ]
  },
  {
   "cell_type": "markdown",
   "metadata": {},
   "source": [
    "Prüfen Sie die angezeigten Werte (es sollte immer noch die Zeile `result = days ...` durch den Debugger markiert sein). Wurde die aktuelle Zeile schon ausgeführt oder nicht?"
   ]
  },
  {
   "cell_type": "markdown",
   "metadata": {},
   "source": [
    "_Ersetzen Sie diesen Text durch Ihre Antwort._"
   ]
  },
  {
   "cell_type": "markdown",
   "metadata": {},
   "source": [
    "### Den Debugger steuern\n",
    "\n",
    "Mit Hilfe der Debug-Tool-Leiste können Sie den debugger steuern. Folgende Grafik zeigt die verschiedenen Möglichkeiten:\n",
    "\n",
    "![](images/debug_toolbar_explained.drawio.svg)\n",
    "\n",
    "* **Continue**: Mit Hilfe von Continue setzen Sie die Programmausführung fort. Falls der Debugger auf noch einen weiteren Breakpoint trifft, wird das Programm dort angehalten. Ansonsten wird das Programm bis zum Ende ausgeführt.\n",
    "\n",
    "* **Step Over**: Dieser Befehl führt die aktuelle Zeile aus und bleibt in der nächsten Zeile wieder stehen. Handelt es sich bei der aktuellen Zeile um eine Funktion, springt der Debugger ***nicht*** in die Funktion, sondern wertet die aktuelle Zeile einschließlich der Funktion aus und hält dann das Programm in der nächsten Zeile an.\n",
    "\n",
    "* **Step Into**: Dieser Befehl führt die aktuelle Zeile aus und bleibt in der nächsten Zeile wieder stehen. Handelt es sich bei der aktuellen Zeile um einen Funktionsaufruf, springt der Debugger in die Funktion und bleibt dort in der ersten Zeile stehen. \n",
    "\n",
    "* **Step Out**: Dieser Befehl verlässt die aktuelle Funktion und springt eine Ebene im Call-Stack weiter nach oben (Sie werden diesen Befehl verstehen, wenn Sie mehr programmiert und Funktionen verstanden haben).\n",
    "\n",
    "* **Restart**: Startet das Programm neu und führt es bis zum ersten Breakpoint aus.\n",
    "\n",
    "* **Disconnect**: Trennt den Debugger vom Programm. Das Programm wird dann ohne Stops bis zum Ende ausgeführt."
   ]
  },
  {
   "cell_type": "markdown",
   "metadata": {},
   "source": [
    "***Aufgabe 2***\n",
    "\n",
    "Sollte der Debugger aktuell noch in obigem Programm stehen, trennen Sie die Verbindung durch Klicken auf *Disconnect*.\n",
    "\n",
    "Folgender Code zeigt ein etwas komplexeres Programm mit einigen für Sie noch unverständlichen Befehlen. Das macht aber nichts, da Sie sich die Bedeutung einfach mit Hilfe des Debuggers erschließen werden."
   ]
  },
  {
   "cell_type": "code",
   "execution_count": null,
   "metadata": {
    "deletable": false,
    "editable": false
   },
   "outputs": [],
   "source": [
    "def calculate_sum(numbers):\n",
    "    local_sum_result1 = 1\n",
    "    for number in numbers:\n",
    "        local_sum_result1 = local_sum_result1 * number\n",
    "    return local_sum_result1\n",
    "\n",
    "def calculate_average(numbers):\n",
    "    local_sum_result2 = calculate_sum(numbers)\n",
    "    average_result = local_sum_result2 / len(numbers)\n",
    "    return average_result\n",
    "\n",
    "numbers = [10, 15, 20, 25, 30]\n",
    "sum_result = calculate_sum(numbers)\n",
    "average_result = calculate_average(numbers)\n",
    "\n",
    "print(\"List of Numbers:\", numbers)\n",
    "print(\"Sum:\", sum_result)\n",
    "print(\"Average:\", average_result)"
   ]
  },
  {
   "cell_type": "markdown",
   "metadata": {},
   "source": [
    "_Ersetzen Sie diesen Text durch Ihre Antwort._"
   ]
  },
  {
   "cell_type": "markdown",
   "metadata": {
    "deletable": false,
    "editable": false
   },
   "source": [
    "1. Klicken Sie als erstes in Ihrer Jupyter-Notebook-Leiste auf *Restart*. Hierdurch werden alle vorherigen Ergebnisse und Variablen gelöscht und das Python-Kernel neu gestartet.\n",
    "\n",
    "1. Setzen Sie nun einen Breakpoint in der Zeile `numbers = [10, 15, ...]`. Starten Sie den Debugger.\n",
    "\n",
    "1. Nutzen Sie nun *Step Over*, um die folgenden Code-Zeilen auszuführen. Beobachten Sie hierbei, wie mit jedem Schritt Variablenwerte aktualisiert werden. Beobachten Sie außerdem, was passiert, wenn Sie die mit `print(...)` beginnenden Zeilen ausführen. \n",
    "\n",
    "1. Notieren Sie, was die einzelnen Zeilen für eine Aufgabe im Programm haben. Sie können dies, indem Sie entweder hinter, oder über eine Code-Zeile z.B. folgendes schreiben: \n",
    "\n",
    "    ```python\n",
    "        # does something fancy\n",
    "        numbers = [10, 15, 20, 25, 30]\n",
    "    ```\n",
    "\n",
    "    oder\n",
    "    \n",
    "    ```python\n",
    "        numbers = [10, 15, 20, 25, 30] # does something fancy\n",
    "    ```  \n",
    "\n",
    "    Man nennt dies einen Kommentar. Kommentare helfen Programmierer:innen Code zu dokumentieren. Alles was hinter einem Hashtag `#` steht wird vom Python-Interpreter ignoriert.\n",
    "\n",
    "1. Die Funktion `sum_result(...)` liefert aktuell nicht, wie der Name suggeriert, die Summe der Zahlen zurück sondern berechnet etwas seltsames. Nutzen Sie *Step Into* in der Debug-Tool-Leiste, um in die Funktion zu springen. Führen Sie dort die Zeilen Schritt für Schritt aus und beobachten Sie, wie sich der Debugger mit jedem Klick auf *Step Into* oder auch *Step Over* durch das Programm bewegt. Was scheint der Befehl `for...` zu bewirken? Welche Werte nimmt `num` beim Ausführen an?\n",
    "\n",
    "1. Die Funktion `sum_result()` sollte eigentlich die Summe der Zahlen in `numbers` berechnen und zurückliefern. Suchen Sie mit Hilfe des Debuggers die Fehler in der Funktion und beheben Sie diese."
   ]
  },
  {
   "cell_type": "code",
   "execution_count": null,
   "metadata": {
    "deletable": false,
    "editable": false
   },
   "outputs": [],
   "source": [
    "grader.check(\"q2\")"
   ]
  },
  {
   "cell_type": "markdown",
   "metadata": {},
   "source": [
    "***"
   ]
  },
  {
   "cell_type": "markdown",
   "metadata": {},
   "source": [
    "### Üben, üben, üben\n",
    "\n",
    "Sie haben nun die Grundlagen des Debuggens ausprobiert und das Grundkonzept verstanden. Der Debugger ermöglicht es Ihnen Fehler viel schneller in Ihrem Code zu finden und kann Ihnen so enorm viel Zeit bei der Fehlersuche in kommenden Programmieraufgaben sparen.\n",
    "\n",
    "Zu Beginn werden Sie eher mit dem Debugger und seinem anfangs etwas gewöhnungsbedürftigem Verhalten kämpfen. Geben Sie nicht auf und investieren Sie die Zeit. Mit etwas Übung werden Sie das Werkzeug schnell beherrschen und bekommen die investierte Zeit um ein Vielfaches zurück!"
   ]
  },
  {
   "cell_type": "markdown",
   "metadata": {
    "deletable": false,
    "editable": false
   },
   "source": [
    "## Abgabe **Please save before exporting!**"
   ]
  },
  {
   "cell_type": "code",
   "execution_count": null,
   "metadata": {
    "deletable": false,
    "editable": false
   },
   "outputs": [],
   "source": [
    "# Save your notebook first, then run this cell to export your submission.\n",
    "grader.export(run_tests=True)"
   ]
  },
  {
   "cell_type": "markdown",
   "metadata": {},
   "source": [
    " "
   ]
  }
 ],
 "metadata": {
  "kernelspec": {
   "display_name": "Python 3 (ipykernel)",
   "language": "python",
   "name": "python3"
  },
  "language_info": {
   "codemirror_mode": {
    "name": "ipython",
    "version": 3
   },
   "file_extension": ".py",
   "mimetype": "text/x-python",
   "name": "python",
   "nbconvert_exporter": "python",
   "pygments_lexer": "ipython3",
   "version": "3.10.12"
  },
  "otter": {
   "OK_FORMAT": false,
   "assignment_name": "01_arbeitsumgebung",
   "tests": {
    "q2": "from otter.test_files import test_case\n\nOK_FORMAT = False\n\nname = \"q2\"\npoints = None\n\n@test_case(points=None, hidden=False, \n    success_message=\"Korrekt :)!\")\ndef test_calculate_sum(calculate_sum):\n    assert calculate_sum([10, 15, 20, 25, 30]) == 100, \"Leider ist stimmt da etwas in der Funktion calculate_sum() noch nicht\"\n\n"
   }
  },
  "vscode": {
   "interpreter": {
    "hash": "b0fa6594d8f4cbf19f97940f81e996739fb7646882a419484c72d19e05852a7e"
   }
  }
 },
 "nbformat": 4,
 "nbformat_minor": 4
}
